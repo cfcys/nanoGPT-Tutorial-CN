{
 "cells": [
  {
   "cell_type": "markdown",
   "metadata": {},
   "source": [
    "- 在上一节中，我们简单地实现了一个十分十分基础甚至有些简陋的GPT，同时起生成效果看起来也有很大的提升空间\n",
    "- 这一节中，我们将对通过一系列的推导来向大家引入可以增强性能的自注意力机制\n"
   ]
  },
  {
   "cell_type": "code",
   "execution_count": 2,
   "metadata": {},
   "outputs": [],
   "source": [
    "import torch\n",
    "import torch.nn as nn\n",
    "import torch.nn.functional as F"
   ]
  },
  {
   "cell_type": "markdown",
   "metadata": {},
   "source": [
    "## 自注意力机制怎么增强性能\n",
    "\n",
    "在此之前，nn.Embedding致力于将现有的编码转化为其对应的下一位的编码\n",
    "\n",
    "但是一个很重要的点是其忽略了现有的编码中彼此之间的联系，\n",
    "\n",
    "如果可以利用好这份联系，使得每个字的编码可以**相互通信**，是从能产生更好的性能呢"
   ]
  },
  {
   "cell_type": "code",
   "execution_count": 17,
   "metadata": {},
   "outputs": [
    {
     "data": {
      "text/plain": [
       "torch.Size([4, 8, 2])"
      ]
     },
     "execution_count": 17,
     "metadata": {},
     "output_type": "execute_result"
    }
   ],
   "source": [
    "# 此时我们以一个真实的情况为例，通过随机生成一些数据来代表当前的真实情况\n",
    "torch.manual_seed(42)   # 设置固定的种子，使得结果可以及时的复现\n",
    "B,T,C = 4,8,2 # batch, time, channels\n",
    "x = torch.randn(B,T,C)\n",
    "x.shape"
   ]
  },
  {
   "cell_type": "markdown",
   "metadata": {},
   "source": [
    "- 最简单的通信方式，第五个编码可以很简单地与收到前面四个编码的平均影响，虽然这种通信的方式听起来也十分地弱"
   ]
  },
  {
   "cell_type": "code",
   "execution_count": 18,
   "metadata": {},
   "outputs": [
    {
     "name": "stdout",
     "output_type": "stream",
     "text": [
      "tensor([[1.9269, 1.4873]])\n",
      "这是上面的均值累加：\n",
      "tensor([1.9269, 1.4873])\n",
      "----------------------\n",
      "tensor([[ 1.9269,  1.4873],\n",
      "        [ 0.9007, -2.1055]])\n",
      "这是上面的均值累加：\n",
      "tensor([ 1.4138, -0.3091])\n",
      "----------------------\n",
      "tensor([[ 1.9269,  1.4873],\n",
      "        [ 0.9007, -2.1055],\n",
      "        [ 0.6784, -1.2345]])\n",
      "这是上面的均值累加：\n",
      "tensor([ 1.1687, -0.6176])\n",
      "----------------------\n",
      "tensor([[ 1.9269,  1.4873],\n",
      "        [ 0.9007, -2.1055],\n",
      "        [ 0.6784, -1.2345],\n",
      "        [-0.0431, -1.6047]])\n",
      "这是上面的均值累加：\n",
      "tensor([ 0.8657, -0.8644])\n",
      "----------------------\n",
      "tensor([[ 1.9269,  1.4873],\n",
      "        [ 0.9007, -2.1055],\n",
      "        [ 0.6784, -1.2345],\n",
      "        [-0.0431, -1.6047],\n",
      "        [-0.7521,  1.6487]])\n",
      "这是上面的均值累加：\n",
      "tensor([ 0.5422, -0.3617])\n",
      "----------------------\n",
      "tensor([[ 1.9269,  1.4873],\n",
      "        [ 0.9007, -2.1055],\n",
      "        [ 0.6784, -1.2345],\n",
      "        [-0.0431, -1.6047],\n",
      "        [-0.7521,  1.6487],\n",
      "        [-0.3925, -1.4036]])\n",
      "这是上面的均值累加：\n",
      "tensor([ 0.3864, -0.5354])\n",
      "----------------------\n",
      "tensor([[ 1.9269,  1.4873],\n",
      "        [ 0.9007, -2.1055],\n",
      "        [ 0.6784, -1.2345],\n",
      "        [-0.0431, -1.6047],\n",
      "        [-0.7521,  1.6487],\n",
      "        [-0.3925, -1.4036],\n",
      "        [-0.7279, -0.5594]])\n",
      "这是上面的均值累加：\n",
      "tensor([ 0.2272, -0.5388])\n",
      "----------------------\n",
      "tensor([[ 1.9269,  1.4873],\n",
      "        [ 0.9007, -2.1055],\n",
      "        [ 0.6784, -1.2345],\n",
      "        [-0.0431, -1.6047],\n",
      "        [-0.7521,  1.6487],\n",
      "        [-0.3925, -1.4036],\n",
      "        [-0.7279, -0.5594],\n",
      "        [-0.7688,  0.7624]])\n",
      "这是上面的均值累加：\n",
      "tensor([ 0.1027, -0.3762])\n",
      "----------------------\n",
      "这是上面的均值累加：\n",
      "----------------------\n",
      "这是上面的均值累加：\n",
      "----------------------\n",
      "这是上面的均值累加：\n",
      "----------------------\n",
      "这是上面的均值累加：\n",
      "----------------------\n",
      "这是上面的均值累加：\n",
      "----------------------\n",
      "这是上面的均值累加：\n",
      "----------------------\n",
      "这是上面的均值累加：\n",
      "----------------------\n",
      "这是上面的均值累加：\n",
      "----------------------\n",
      "这是上面的均值累加：\n",
      "----------------------\n",
      "这是上面的均值累加：\n",
      "----------------------\n",
      "这是上面的均值累加：\n",
      "----------------------\n",
      "这是上面的均值累加：\n",
      "----------------------\n",
      "这是上面的均值累加：\n",
      "----------------------\n",
      "这是上面的均值累加：\n",
      "----------------------\n",
      "这是上面的均值累加：\n",
      "----------------------\n",
      "这是上面的均值累加：\n",
      "----------------------\n",
      "这是上面的均值累加：\n",
      "----------------------\n",
      "这是上面的均值累加：\n",
      "----------------------\n",
      "这是上面的均值累加：\n",
      "----------------------\n",
      "这是上面的均值累加：\n",
      "----------------------\n",
      "这是上面的均值累加：\n",
      "----------------------\n",
      "这是上面的均值累加：\n",
      "----------------------\n",
      "这是上面的均值累加：\n",
      "----------------------\n",
      "这是上面的均值累加：\n",
      "----------------------\n"
     ]
    }
   ],
   "source": [
    "# 第一种方式：为了循环和聚合，我们使用torch.mean函数进行操作\n",
    "\n",
    "xbow = torch.zeros((B,T,C))\n",
    "\n",
    "for b in range(B):  # 遍历所有的batch\n",
    "    for t in range(T):\n",
    "        # 使用切片操作x[b,:t+1]来获取x在第b个批次中前t+1个时间步的所有元素，得到一个形状为(t,C)的张量xprev。\n",
    "        xprev = x[b,:t+1] # (t,C)\n",
    "        # 使用torch.mean(xprev, 0)来计算xprev在第一个维度（dim=0）上的平均值。这个操作会返回一个形状为(C,)的张量，它的每个元素是xprev在对应列上的元素的平均值。\n",
    "        xbow[b,t] = torch.mean(xprev, 0) \n",
    "        \n",
    "        # print(b) if b==0 else None\n",
    "        # print(t) if b==0 else None\n",
    "        print(xprev) if b==0 else None   # 前面的累加\n",
    "        print('这是上面的均值累加：')\n",
    "        print(xbow[b,t]) if b==0 else None\n",
    "        print(\"----------------------\")\n",
    "\n",
    "# 虽然这样是可以行的，但是这里的实现方式明显可以进一步改进"
   ]
  },
  {
   "cell_type": "code",
   "execution_count": 19,
   "metadata": {},
   "outputs": [
    {
     "name": "stdout",
     "output_type": "stream",
     "text": [
      "a=\n",
      "tensor([[1.0000, 0.0000, 0.0000],\n",
      "        [0.5000, 0.5000, 0.0000],\n",
      "        [0.3333, 0.3333, 0.3333]])\n",
      "--\n",
      "b=\n",
      "tensor([[0., 1.],\n",
      "        [3., 0.],\n",
      "        [1., 1.]])\n",
      "--\n",
      "c=\n",
      "tensor([[0.0000, 1.0000],\n",
      "        [1.5000, 0.5000],\n",
      "        [1.3333, 0.6667]])\n"
     ]
    }
   ],
   "source": [
    "# 方法2：使用矩阵乘法\n",
    "\n",
    "a = torch.tril(torch.ones(3, 3))   # 创建一个下三角的矩阵的函数\n",
    "# torch.sum 计算张量a在每一横行上的值，\n",
    "a = a / torch.sum(a, 1, keepdim=True)    # ！ 这一步相当于是在\n",
    "b = torch.randint(0,10,(3,2)).float()\n",
    "c = a @ b\n",
    "print('a=')\n",
    "print(a)\n",
    "print('--')\n",
    "print('b=')\n",
    "print(b)\n",
    "print('--')\n",
    "print('c=')\n",
    "print(c)\n",
    "\n",
    "#  在这个过程中，实现了字符根据权重得到最终的结果"
   ]
  },
  {
   "cell_type": "markdown",
   "metadata": {},
   "source": [
    "* 这个时候可以揭晓，我们所想要平均的一直是**权重**"
   ]
  },
  {
   "cell_type": "code",
   "execution_count": 24,
   "metadata": {},
   "outputs": [
    {
     "data": {
      "text/plain": [
       "True"
      ]
     },
     "execution_count": 24,
     "metadata": {},
     "output_type": "execute_result"
    }
   ],
   "source": [
    "weight = torch.tril(torch.ones(T, T))\n",
    "weight = weight / weight.sum(1, keepdim=True)  # 直接是在第一个维度上进行加和\n",
    "weight\n",
    "# 而在这个例子中的b，其实是x\n",
    "xbow2 = weight @ x  # (B,T,T) @ (B,T,C)   ------>   (B,T,C)\n",
    "torch.allclose(xbow,xbow2)   # 这个是用于检测两个张量是否在一定的容忍度内是相等的"
   ]
  },
  {
   "cell_type": "markdown",
   "metadata": {},
   "source": [
    "结果为`True`，所以说明这样几行就解决了上面这个循环要做的事情"
   ]
  },
  {
   "cell_type": "markdown",
   "metadata": {},
   "source": [
    "* 然而，这里还有一种更为巧妙的方式可以实现"
   ]
  },
  {
   "cell_type": "code",
   "execution_count": 33,
   "metadata": {},
   "outputs": [
    {
     "data": {
      "text/plain": [
       "True"
      ]
     },
     "execution_count": 33,
     "metadata": {},
     "output_type": "execute_result"
    }
   ],
   "source": [
    "\n",
    "# 第三种方式：使用softmax\n",
    "trils = torch.tril(torch.ones(T,T))\n",
    "\n",
    "weight = torch.zeros((T,T))  # 构造一个全为0的向量\n",
    "weight = weight.masked_fill(trils == 0,float('-inf'))  # 使所有tril为0的位置都变为无穷大\n",
    "# 然后，我们选择在每行的维度上去使用sotfmax，\n",
    "weight = F.softmax(weight,dim=-1)\n",
    "\n",
    "xbow3 = weight @ x\n",
    "\n",
    "torch.allclose(xbow,xbow3)   # 这个是用于检测两个张量是否在一定的容忍度内是相等的\n"
   ]
  },
  {
   "cell_type": "code",
   "execution_count": 32,
   "metadata": {},
   "outputs": [
    {
     "data": {
      "text/plain": [
       "tensor([[1.0000, 0.0000, 0.0000, 0.0000, 0.0000, 0.0000, 0.0000, 0.0000],\n",
       "        [0.5000, 0.5000, 0.0000, 0.0000, 0.0000, 0.0000, 0.0000, 0.0000],\n",
       "        [0.3333, 0.3333, 0.3333, 0.0000, 0.0000, 0.0000, 0.0000, 0.0000],\n",
       "        [0.2500, 0.2500, 0.2500, 0.2500, 0.0000, 0.0000, 0.0000, 0.0000],\n",
       "        [0.2000, 0.2000, 0.2000, 0.2000, 0.2000, 0.0000, 0.0000, 0.0000],\n",
       "        [0.1667, 0.1667, 0.1667, 0.1667, 0.1667, 0.1667, 0.0000, 0.0000],\n",
       "        [0.1429, 0.1429, 0.1429, 0.1429, 0.1429, 0.1429, 0.1429, 0.0000],\n",
       "        [0.1250, 0.1250, 0.1250, 0.1250, 0.1250, 0.1250, 0.1250, 0.1250]])"
      ]
     },
     "execution_count": 32,
     "metadata": {},
     "output_type": "execute_result"
    }
   ],
<<<<<<< HEAD
   "source": []
=======
   "source": [
    "# version 4: 自注意力的实现\n",
    "torch.manual_seed(1337)\n",
    "B,T,C = 4,8,32 # batch, time, channels\n",
    "x = torch.randn(B,T,C)\n",
    "\n"
   ]
>>>>>>> 150e7f178e9b465dc452db5a6b0e87bedbaf896a
  },
  {
   "cell_type": "code",
   "execution_count": null,
   "metadata": {},
   "outputs": [],
   "source": []
  }
 ],
 "metadata": {
  "kernelspec": {
   "display_name": "pytorch",
   "language": "python",
   "name": "python3"
  },
  "language_info": {
   "codemirror_mode": {
    "name": "ipython",
    "version": 3
   },
   "file_extension": ".py",
   "mimetype": "text/x-python",
   "name": "python",
   "nbconvert_exporter": "python",
   "pygments_lexer": "ipython3",
   "version": "3.9.12"
  }
 },
 "nbformat": 4,
 "nbformat_minor": 2
}
