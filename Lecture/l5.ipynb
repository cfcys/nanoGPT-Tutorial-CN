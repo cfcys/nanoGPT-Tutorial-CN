{
 "cells": [
  {
   "cell_type": "markdown",
   "metadata": {},
   "source": [
    "经过了第四讲的铺垫，在本讲中，我们来正式书写自注意力模块"
   ]
  },
  {
   "cell_type": "code",
   "execution_count": 5,
   "metadata": {},
   "outputs": [],
   "source": [
    "import torch\n",
    "import torch.nn as nn  \n",
    "import torch.nn.functional as F"
   ]
  },
  {
   "cell_type": "markdown",
   "metadata": {},
   "source": [
    "我们能够看出，目前这种方式只是简单实现过去的编码和当前的编码的十分简单的加权和，也即权重都是通过数量的平均获得，在此之前的每一个字符的编码的权重都是一样的，如果**不同的字符可以根据其自身的情况，根据其自身可以发挥的不同作用**从而生成不同权重的话，，， 没错，这就是自注意力机制做的事情"
   ]
  },
  {
   "cell_type": "markdown",
   "metadata": {},
   "source": [
    "- 自注意力机制可以被简单地描述为这么一回事\n",
    "     - 对于每一个被编码的位置，其会有两个向量，一个我们称之为`key`,而另一个我们称之为`query`\n",
    "     - 我们可以想象，对于每一个`query`，他一直在说**我在寻找什么**\n",
    "     - 而对于每一个`key`，他一直在说**我是什么，我所包含的是什么**\n",
    "\n",
    "- 我们在不同序列之间获取联系的方式就是通过`key`和`query`之间的交互，更具体一点来讲，即通过一个点乘，在`key`和`query`之间实现\n",
    "\n",
    "- 而`key`和`query`之间的点积就变成了权重`weight`"
   ]
  },
  {
   "cell_type": "code",
   "execution_count": null,
   "metadata": {},
   "outputs": [],
   "source": [
    "# version 4: 自注意力的实现\n",
    "torch.manual_seed(1337)\n",
    "B,T,C = 4,8,32 # batch, time, channels\n",
    "x = torch.randn(B,T,C)\n",
    "\n",
    "\n",
    "# 一个简单的自注意力头的实现\n",
    "head_size = 16  # 指定头的大小\n",
    "key = nn.Linear(C,head_size,bias = False)\n",
    "query = nn.\n",
    "\n",
    "\n",
    "trils = torch.tril(torch.ones(T,T))\n",
    "weight = torch.zeros((T,T))  # 构造一个全为0的向量\n",
    "weight = weight.masked_fill(trils == 0,float('-inf'))  # 使所有tril为0的位置都变为无穷大\n",
    "# 然后，我们选择在每行的维度上去使用sotfmax，\n",
    "weight = F.softmax(weight,dim=-1)\n",
    "\n",
    "out = weight @ x\n",
    "\n",
    "out.shape"
   ]
  }
 ],
 "metadata": {
  "kernelspec": {
   "display_name": "pytorch",
   "language": "python",
   "name": "python3"
  },
  "language_info": {
   "codemirror_mode": {
    "name": "ipython",
    "version": 3
   },
   "file_extension": ".py",
   "mimetype": "text/x-python",
   "name": "python",
   "nbconvert_exporter": "python",
   "pygments_lexer": "ipython3",
   "version": "3.9.12"
  }
 },
 "nbformat": 4,
 "nbformat_minor": 2
}
