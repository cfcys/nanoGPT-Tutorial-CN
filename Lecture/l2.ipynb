{
 "cells": [
  {
   "cell_type": "markdown",
   "metadata": {},
   "source": [
    "# 我们所使用的数据集\n",
    "\n",
    "在原视频中所使用的是莎士比亚的作品全集的txt文件，但是在此处我们选择使用一个中文的数据集，以[奇书网](https://www.qishuta.org/Shtml5132.html)上的txt文件为例，其文件本身并不大，我们只需下载下来经过编解码即可"
   ]
  },
  {
   "cell_type": "code",
   "execution_count": null,
   "metadata": {},
   "outputs": [],
   "source": [
    "# 读取该文本的脚本为\n",
    "\n",
    "with open('4447.txt', 'r', encoding='utf-8') as f:\n",
    "    text = f.read()"
   ]
  },
  {
   "cell_type": "code",
   "execution_count": null,
   "metadata": {},
   "outputs": [],
   "source": []
  }
 ],
 "metadata": {
  "kernelspec": {
   "display_name": "pytorch",
   "language": "python",
   "name": "python3"
  },
  "language_info": {
   "name": "python",
   "version": "3.9.12"
  }
 },
 "nbformat": 4,
 "nbformat_minor": 2
}
